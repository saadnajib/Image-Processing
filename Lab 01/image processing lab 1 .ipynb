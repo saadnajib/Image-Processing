{
 "cells": [
  {
   "cell_type": "code",
   "execution_count": 9,
   "metadata": {
    "scrolled": false
   },
   "outputs": [
    {
     "name": "stdout",
     "output_type": "stream",
     "text": [
      "2\n",
      "4\n",
      "8\n",
      "16\n",
      "32\n",
      "64\n",
      "128\n",
      "256\n"
     ]
    }
   ],
   "source": [
    "# quantize a image\n",
    "import PIL  \n",
    "import numpy as np\n",
    "from PIL import Image \n",
    "\n",
    "for i in range(1,9):\n",
    "    im1 = Image.open(r'D:/mobile sd card/saad/qq.jpg')\n",
    "    im1 = im1.quantize(np.power(2,i))  \n",
    "    print(np.power(2,i))\n",
    "    im1.show()\n"
   ]
  },
  {
   "cell_type": "code",
   "execution_count": 3,
   "metadata": {},
   "outputs": [],
   "source": [
    "im1 = Image.open(r\"C:/Users/saad najib/Desktop/online classes/dip/Lab Manuals/Lab 01/data sets/face.jpg\")  \n",
    "im1 = im1.quantize(256)  \n",
    "im1.show()"
   ]
  },
  {
   "cell_type": "code",
   "execution_count": null,
   "metadata": {},
   "outputs": [],
   "source": []
  }
 ],
 "metadata": {
  "kernelspec": {
   "display_name": "Python 3",
   "language": "python",
   "name": "python3"
  },
  "language_info": {
   "codemirror_mode": {
    "name": "ipython",
    "version": 3
   },
   "file_extension": ".py",
   "mimetype": "text/x-python",
   "name": "python",
   "nbconvert_exporter": "python",
   "pygments_lexer": "ipython3",
   "version": "3.7.3"
  }
 },
 "nbformat": 4,
 "nbformat_minor": 2
}
